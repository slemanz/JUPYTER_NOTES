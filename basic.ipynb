{
 "cells": [
  {
   "cell_type": "markdown",
   "id": "eb25ea20-fe3f-4d38-9106-105a15926d03",
   "metadata": {},
   "source": [
    "# JUPYTER BASICS\n",
    "\n",
    "---\n",
    "\n",
    "## MARKDOWN\n",
    "\n",
    "We can use markdown and python!!!"
   ]
  },
  {
   "cell_type": "code",
   "execution_count": 3,
   "id": "de83916c-b643-4c40-88df-093d58d9f847",
   "metadata": {
    "scrolled": true
   },
   "outputs": [
    {
     "name": "stdout",
     "output_type": "stream",
     "text": [
      "Hello World!\n"
     ]
    }
   ],
   "source": [
    "# just a example of python code\n",
    "print(\"Hello World!\")"
   ]
  },
  {
   "cell_type": "markdown",
   "id": "869008d3-fe86-4aeb-9592-4eb4e7481693",
   "metadata": {},
   "source": [
    "## LATEX\n",
    "\n",
    "Also latex can be used!\n",
    "\n",
    "$ 6\\cdot x - 2 = 1 $\n",
    "\n",
    "$ 6\\cdot x = 3 $\n",
    "\n",
    "$ x = \\dfrac{3}{6} $\n",
    "\n",
    "$ \\boxed{x = \\dfrac{1}{2} = 0.5} $"
   ]
  }
 ],
 "metadata": {
  "kernelspec": {
   "display_name": "Python 3 (ipykernel)",
   "language": "python",
   "name": "python3"
  },
  "language_info": {
   "codemirror_mode": {
    "name": "ipython",
    "version": 3
   },
   "file_extension": ".py",
   "mimetype": "text/x-python",
   "name": "python",
   "nbconvert_exporter": "python",
   "pygments_lexer": "ipython3",
   "version": "3.10.12"
  }
 },
 "nbformat": 4,
 "nbformat_minor": 5
}
